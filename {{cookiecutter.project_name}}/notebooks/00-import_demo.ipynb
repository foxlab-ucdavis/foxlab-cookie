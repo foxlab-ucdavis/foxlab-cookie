{
 "cells": [
  {
   "cell_type": "code",
   "execution_count": null,
   "id": "873e4e14",
   "metadata": {},
   "outputs": [],
   "source": [
    "import sys\n",
    "from pathlib import Path\n",
    "\n",
    "########################################################\n",
    "# Replace the following code with your own project name\n",
    "\n",
    "non_project_dirs = {\".venv\", \"references\", \"docs\", \"notebooks\", \"reports\"}\n",
    "project_dir = list(\n",
    "    d for d in Path.cwd().parent.glob(\"*\") if d.is_dir() and d.name not in non_project_dirs\n",
    ")[0]\n",
    "########################################################\n",
    "\n",
    "# add project directory to sys.path\n",
    "sys.path.append(f\"../{project_dir.name}\")\n",
    "sys.path\n"
   ]
  },
  {
   "cell_type": "code",
   "execution_count": null,
   "id": "6163f756",
   "metadata": {},
   "outputs": [],
   "source": [
    "# now you can import your own modules\n",
    "from data import process_data\n",
    "\n",
    "process_data.my_function(1, 4)"
   ]
  },
  {
   "cell_type": "code",
   "execution_count": null,
   "id": "99d83de8",
   "metadata": {},
   "outputs": [],
   "source": [
    "from data.process_data import my_function\n",
    "\n",
    "my_function(5, 8)"
   ]
  }
 ],
 "metadata": {
  "kernelspec": {
   "display_name": "Python 3 (ipykernel)",
   "language": "python",
   "name": "python3"
  },
  "language_info": {
   "codemirror_mode": {
    "name": "ipython",
    "version": 3
   },
   "file_extension": ".py",
   "mimetype": "text/x-python",
   "name": "python",
   "nbconvert_exporter": "python",
   "pygments_lexer": "ipython3",
   "version": "3.10.10"
  }
 },
 "nbformat": 4,
 "nbformat_minor": 5
}
