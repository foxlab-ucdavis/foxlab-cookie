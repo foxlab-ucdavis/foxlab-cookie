{
 "cells": [
  {
   "attachments": {},
   "cell_type": "markdown",
   "id": "49e6a182",
   "metadata": {},
   "source": [
    "# Import demo\n",
    "\n",
    "Our new project is a Python package, so we can import it like any other Python package. Let's try it out!\n",
    "\n",
    "\n",
    "We have a function called `my_function` in our package. Let's import it and call it.\n",
    "\n",
    "```python\n",
    "def my_function(a, b):\n",
    "    return a + b\n",
    "```"
   ]
  },
  {
   "attachments": {},
   "cell_type": "markdown",
   "id": "50a7229f",
   "metadata": {},
   "source": [
    "You can import your own modules using the the following syntax:  \n",
    "`from <project>.<package> import <module>`"
   ]
  },
  {
   "cell_type": "code",
   "execution_count": null,
   "id": "6163f756",
   "metadata": {},
   "outputs": [],
   "source": [
    "# from <project>.<package> import <module>\n",
    "from example_project.data import process_data\n",
    "\n",
    "process_data.my_function(1, 4)"
   ]
  },
  {
   "attachments": {},
   "cell_type": "markdown",
   "id": "62179931",
   "metadata": {},
   "source": [
    "We can also use shorthand:\n"
   ]
  },
  {
   "cell_type": "code",
   "execution_count": null,
   "id": "72b9bdd8",
   "metadata": {},
   "outputs": [],
   "source": [
    "from example_project.data import process_data as proc\n",
    "\n",
    "proc.my_function(1, 4)"
   ]
  },
  {
   "attachments": {},
   "cell_type": "markdown",
   "id": "0415a218",
   "metadata": {},
   "source": [
    "Or, you can directly import a specific function from a module using the following syntax:\n",
    "\n",
    "`from <project>.<package>.<module> import <function>`"
   ]
  },
  {
   "cell_type": "code",
   "execution_count": null,
   "id": "99d83de8",
   "metadata": {},
   "outputs": [],
   "source": [
    "from example_project.data.process_data import my_function\n",
    "\n",
    "my_function(5, 8)"
   ]
  }
 ],
 "metadata": {
  "kernelspec": {
   "display_name": "Python 3 (ipykernel)",
   "language": "python",
   "name": "python3"
  },
  "language_info": {
   "codemirror_mode": {
    "name": "ipython",
    "version": 3
   },
   "file_extension": ".py",
   "mimetype": "text/x-python",
   "name": "python",
   "nbconvert_exporter": "python",
   "pygments_lexer": "ipython3",
   "version": "3.10.10"
  }
 },
 "nbformat": 4,
 "nbformat_minor": 5
}
